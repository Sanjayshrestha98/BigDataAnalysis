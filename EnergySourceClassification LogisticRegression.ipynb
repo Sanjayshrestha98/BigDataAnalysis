{
 "cells": [
  {
   "cell_type": "code",
   "execution_count": 1,
   "id": "b3bc8fa3",
   "metadata": {},
   "outputs": [
    {
     "name": "stdout",
     "output_type": "stream",
     "text": [
      "+-------+-----------------------+\n",
      "|summary|renewables_share_energy|\n",
      "+-------+-----------------------+\n",
      "|  count|                   4284|\n",
      "|   mean|      9.769008636788044|\n",
      "| stddev|     13.166013905306468|\n",
      "|    min|                    0.0|\n",
      "|    25%|                  1.003|\n",
      "|    50%|                  5.051|\n",
      "|    75%|                 13.183|\n",
      "|    max|                 82.835|\n",
      "+-------+-----------------------+\n",
      "\n"
     ]
    }
   ],
   "source": [
    "from pyspark.sql import SparkSession\n",
    "from pyspark.ml.feature import VectorAssembler\n",
    "from pyspark.ml.classification import LogisticRegression\n",
    "from pyspark.ml.evaluation import MulticlassClassificationEvaluator\n",
    "\n",
    "spark = SparkSession.builder.appName(\"EnergySourceClassification\").getOrCreate()\n",
    "\n",
    "dataset_path = (r\"C:\\Users\\sanja\\Desktop\\Big Data\\World Energy Consumption.csv\")\n",
    "\n",
    "data = spark.read.csv(dataset_path, header=True, inferSchema=True)\n",
    "\n",
    "data.select('renewables_share_energy').summary().show()"
   ]
  },
  {
   "cell_type": "code",
   "execution_count": 2,
   "id": "52dc4071",
   "metadata": {},
   "outputs": [],
   "source": [
    "threshold_renewable = 9.7\n",
    "\n",
    "data = data.withColumn(\"label\", (data[\"renewables_share_energy\"] > threshold_renewable).cast(\"double\"))"
   ]
  },
  {
   "cell_type": "code",
   "execution_count": 3,
   "id": "693fefa5",
   "metadata": {},
   "outputs": [],
   "source": [
    "\n",
    "feature_columns = [\"coal_share_energy\", \"gas_share_energy\", \"oil_share_energy\", \"renewables_share_energy\"]\n",
    "\n",
    "assembler = VectorAssembler(inputCols=feature_columns, outputCol=\"features\", handleInvalid = \"skip\")\n",
    "data = assembler.transform(data)"
   ]
  },
  {
   "cell_type": "code",
   "execution_count": 4,
   "id": "5b3072fa",
   "metadata": {},
   "outputs": [],
   "source": [
    "train_data, test_data = data.randomSplit([0.7, 0.3], seed=123)\n",
    "\n",
    "# Logistic Regression\n",
    "lr = LogisticRegression(labelCol=\"label\", featuresCol=\"features\", maxIter=100, regParam=0.01)\n",
    "model = lr.fit(train_data)"
   ]
  },
  {
   "cell_type": "code",
   "execution_count": 5,
   "id": "f92afaf5",
   "metadata": {},
   "outputs": [],
   "source": [
    "# Make predictions on the test data\n",
    "predictions = model.transform(test_data)"
   ]
  },
  {
   "cell_type": "code",
   "execution_count": 6,
   "id": "5e80cb5f",
   "metadata": {},
   "outputs": [
    {
     "name": "stdout",
     "output_type": "stream",
     "text": [
      "Accuracy: 0.9575289575289575\n"
     ]
    }
   ],
   "source": [
    "\n",
    "# Evaluate the model's performance using a MulticlassClassificationEvaluator\n",
    "evaluator = MulticlassClassificationEvaluator(labelCol=\"label\", predictionCol=\"prediction\", metricName=\"accuracy\")\n",
    "accuracy = evaluator.evaluate(predictions)\n",
    "print(f\"Accuracy: {accuracy}\")\n"
   ]
  },
  {
   "cell_type": "code",
   "execution_count": 7,
   "id": "5ebd5a0f",
   "metadata": {},
   "outputs": [],
   "source": [
    "from pyspark.ml.evaluation import MulticlassClassificationEvaluator\n",
    "from pyspark.ml.classification import LogisticRegression\n",
    "from pyspark.mllib.evaluation import MulticlassMetrics\n",
    "\n",
    "# Precision, Recall, F1-Score\n",
    "tp = predictions.filter((predictions[\"label\"] == 1) & (predictions[\"prediction\"] == 1)).count()\n",
    "tn = predictions.filter((predictions[\"label\"] == 0) & (predictions[\"prediction\"] == 0)).count()\n",
    "fp = predictions.filter((predictions[\"label\"] == 0) & (predictions[\"prediction\"] == 1)).count()\n",
    "fn = predictions.filter((predictions[\"label\"] == 1) & (predictions[\"prediction\"] == 0)).count()\n",
    "\n"
   ]
  },
  {
   "cell_type": "code",
   "execution_count": 8,
   "id": "a7e13f72",
   "metadata": {},
   "outputs": [
    {
     "name": "stdout",
     "output_type": "stream",
     "text": [
      "Precision: 0.9969788519637462\n",
      "Recall: 0.859375\n",
      "F1-Score: 0.9230769230769231\n"
     ]
    }
   ],
   "source": [
    "\n",
    "precision = tp / (tp + fp)\n",
    "recall = tp / (tp + fn)\n",
    "f1_score = 2 * (precision * recall) / (precision + recall)\n",
    "\n",
    "print(f\"Precision: {precision}\")\n",
    "print(f\"Recall: {recall}\")\n",
    "print(f\"F1-Score: {f1_score}\")\n"
   ]
  },
  {
   "cell_type": "code",
   "execution_count": 9,
   "id": "95a4a7d1",
   "metadata": {},
   "outputs": [
    {
     "name": "stderr",
     "output_type": "stream",
     "text": [
      "C:\\Users\\sanja\\anaconda3\\envs\\spart\\lib\\site-packages\\pyspark\\sql\\context.py:157: FutureWarning: Deprecated in 3.0.0. Use SparkSession.builder.getOrCreate() instead.\n",
      "  warnings.warn(\n"
     ]
    },
    {
     "name": "stdout",
     "output_type": "stream",
     "text": [
      "Confusion Matrix:\n",
      "DenseMatrix([[910.,  54.],\n",
      "             [  1., 330.]])\n"
     ]
    }
   ],
   "source": [
    "# Confusion Matrix\n",
    "metrics = MulticlassMetrics(predictions.select(\"label\", \"prediction\").rdd)\n",
    "confusion_matrix = metrics.confusionMatrix()\n",
    "\n",
    "print(\"Confusion Matrix:\")\n",
    "print(confusion_matrix)"
   ]
  },
  {
   "cell_type": "code",
   "execution_count": 10,
   "id": "41c53d57",
   "metadata": {},
   "outputs": [
    {
     "data": {
      "image/png": "[encoded data removed]",
      "text/plain": [
       "<Figure size 800x600 with 2 Axes>"
      ]
     },
     "metadata": {},
     "output_type": "display_data"
    }
   ],
   "source": [
    "import matplotlib.pyplot as plt\n",
    "import seaborn as sns\n",
    "import numpy as np\n",
    "\n",
    "# Getting the confusion matrix from the MulticlassMetrics object\n",
    "confusion_matrix = metrics.confusionMatrix().toArray()\n",
    "\n",
    "# heatmap\n",
    "plt.figure(figsize=(8, 6))\n",
    "sns.set(font_scale=1.2)\n",
    "sns.heatmap(confusion_matrix, annot=True, fmt=\"g\", cmap=\"Blues\", linewidths=.5, annot_kws={\"size\": 16})\n",
    "plt.xlabel('Predicted')\n",
    "plt.ylabel('Actual')\n",
    "plt.title('Confusion Matrix')\n",
    "plt.show()\n"
   ]
  },
  {
   "cell_type": "code",
   "execution_count": null,
   "id": "3fa11077",
   "metadata": {},
   "outputs": [],
   "source": [
    "spark.stop()"
   ]
  }
 ],
 "metadata": {
  "kernelspec": {
   "display_name": "Python 3 (ipykernel)",
   "language": "python",
   "name": "python3"
  },
  "language_info": {
   "codemirror_mode": {
    "name": "ipython",
    "version": 3
   },
   "file_extension": ".py",
   "mimetype": "text/x-python",
   "name": "python",
   "nbconvert_exporter": "python",
   "pygments_lexer": "ipython3",
   "version": "3.9.17"
  }
 },
 "nbformat": 4,
 "nbformat_minor": 5
}
